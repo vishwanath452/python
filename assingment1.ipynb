{
 "cells": [
  {
   "cell_type": "raw",
   "id": "eff2d9ba-f525-4d6f-916d-54f46c641400",
   "metadata": {},
   "source": [
    "1.conventions while declaring variable\n",
    " 1.it should not be a keyword\n",
    " 2.no space between the variable\n",
    " 3.allows only one special character at starting or any position\n",
    " 4.it should be any length\n",
    " 5.They are case-sensitive\n",
    " 6.it cannot start with digits"
   ]
  },
  {
   "cell_type": "raw",
   "id": "8661bae9-0dca-4cd7-9116-08ab3357a71d",
   "metadata": {},
   "source": [
    "2.what happen if we declare a keyword as a variable\n",
    "  if we declare keyword as a variable then there will be syntaxerror as keyword are \n",
    "  reseverd so we cannot use as a ariable"
   ]
  },
  {
   "cell_type": "raw",
   "id": "199f78a6-4e26-452b-8194-7094a326fb40",
   "metadata": {},
   "source": [
    "3.yes,we can declare string as a ariable"
   ]
  },
  {
   "cell_type": "raw",
   "id": "5b9eda08-c53f-4693-bdff-28e039715b3c",
   "metadata": {},
   "source": [
    "4.yes,we can declare a specialsymbol(_) as a variable.we can use a (_) in between the variable.\n",
    "example,\n",
    "word_names,student_rollno,employee_id etc"
   ]
  },
  {
   "cell_type": "raw",
   "id": "79faa965-fccd-4e97-95c0-b4259134b978",
   "metadata": {},
   "source": [
    "5.python is dynamic in nature because declarartions data type is not requried.\n",
    "they do not bind with the one type they changes based on the value.The datatypes take care by the python"
   ]
  },
  {
   "cell_type": "code",
   "execution_count": null,
   "id": "1ecb996f-b901-425b-b09c-6200353aefdb",
   "metadata": {},
   "outputs": [],
   "source": []
  },
  {
   "cell_type": "code",
   "execution_count": null,
   "id": "98eb2d51-a0b3-4ec7-901c-4935d1cf3db3",
   "metadata": {},
   "outputs": [],
   "source": []
  },
  {
   "cell_type": "raw",
   "id": "68303f5e-f981-4ebd-bb46-910db13988ca",
   "metadata": {},
   "source": []
  }
 ],
 "metadata": {
  "kernelspec": {
   "display_name": "Python 3 (ipykernel)",
   "language": "python",
   "name": "python3"
  },
  "language_info": {
   "codemirror_mode": {
    "name": "ipython",
    "version": 3
   },
   "file_extension": ".py",
   "mimetype": "text/x-python",
   "name": "python",
   "nbconvert_exporter": "python",
   "pygments_lexer": "ipython3",
   "version": "3.10.8"
  }
 },
 "nbformat": 4,
 "nbformat_minor": 5
}
