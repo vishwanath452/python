{
 "cells": [
  {
   "cell_type": "code",
   "execution_count": 5,
   "id": "2e06dfb3-f6d4-4113-b3e0-52a1bb6d8aee",
   "metadata": {},
   "outputs": [],
   "source": [
    "t1 = (1,2,3,4,5,\"sudh\",True,5+6j)"
   ]
  },
  {
   "cell_type": "code",
   "execution_count": 2,
   "id": "9437f5ed-cf26-44ca-9061-e683f5f46294",
   "metadata": {},
   "outputs": [],
   "source": [
    "t = ()"
   ]
  },
  {
   "cell_type": "code",
   "execution_count": 3,
   "id": "4c330b6a-8d72-4f25-a8d0-f764c742857e",
   "metadata": {},
   "outputs": [
    {
     "data": {
      "text/plain": [
       "tuple"
      ]
     },
     "execution_count": 3,
     "metadata": {},
     "output_type": "execute_result"
    }
   ],
   "source": [
    "type(t)"
   ]
  },
  {
   "cell_type": "code",
   "execution_count": 6,
   "id": "4172c8df-0b16-4d7f-b009-1f69bc1f82a7",
   "metadata": {},
   "outputs": [
    {
     "data": {
      "text/plain": [
       "(1, 2, 3, 4, 5, 'sudh', True, (5+6j))"
      ]
     },
     "execution_count": 6,
     "metadata": {},
     "output_type": "execute_result"
    }
   ],
   "source": [
    "t1 "
   ]
  },
  {
   "cell_type": "code",
   "execution_count": 7,
   "id": "128a4db4-390a-4067-b50e-6278e05a7c4e",
   "metadata": {},
   "outputs": [
    {
     "data": {
      "text/plain": [
       "tuple"
      ]
     },
     "execution_count": 7,
     "metadata": {},
     "output_type": "execute_result"
    }
   ],
   "source": [
    "type(t1)"
   ]
  },
  {
   "cell_type": "code",
   "execution_count": 8,
   "id": "d171e873-dee8-47ff-a748-9f52754a6617",
   "metadata": {},
   "outputs": [],
   "source": [
    "l = [1,2,3,4,5,\"sudh\",True,5+6j]"
   ]
  },
  {
   "cell_type": "code",
   "execution_count": 9,
   "id": "d771fd79-edbd-446e-9ad5-fd6c879fb096",
   "metadata": {},
   "outputs": [
    {
     "data": {
      "text/plain": [
       "list"
      ]
     },
     "execution_count": 9,
     "metadata": {},
     "output_type": "execute_result"
    }
   ],
   "source": [
    "type(l)"
   ]
  },
  {
   "cell_type": "code",
   "execution_count": 10,
   "id": "d81008ec-5854-4a17-9bfd-2ecbeec6e43c",
   "metadata": {},
   "outputs": [
    {
     "data": {
      "text/plain": [
       "'sudh'"
      ]
     },
     "execution_count": 10,
     "metadata": {},
     "output_type": "execute_result"
    }
   ],
   "source": [
    "t1[5]"
   ]
  },
  {
   "cell_type": "code",
   "execution_count": 11,
   "id": "0c3ab059-09a4-400a-9c13-bdc317de4355",
   "metadata": {},
   "outputs": [
    {
     "data": {
      "text/plain": [
       "'sudh'"
      ]
     },
     "execution_count": 11,
     "metadata": {},
     "output_type": "execute_result"
    }
   ],
   "source": [
    "l[5]"
   ]
  },
  {
   "cell_type": "code",
   "execution_count": 12,
   "id": "087089db-134b-4ed4-8b87-72ea1962aa4e",
   "metadata": {},
   "outputs": [
    {
     "data": {
      "text/plain": [
       "(1, 2, 3, 4, 5, 'sudh', True, (5+6j))"
      ]
     },
     "execution_count": 12,
     "metadata": {},
     "output_type": "execute_result"
    }
   ],
   "source": [
    "t1"
   ]
  },
  {
   "cell_type": "code",
   "execution_count": 13,
   "id": "af636d73-4d74-4dee-a9b1-8b1f1b73080e",
   "metadata": {},
   "outputs": [
    {
     "data": {
      "text/plain": [
       "[1, 2, 3, 4, 5, 'sudh', True, (5+6j)]"
      ]
     },
     "execution_count": 13,
     "metadata": {},
     "output_type": "execute_result"
    }
   ],
   "source": [
    "l"
   ]
  },
  {
   "cell_type": "code",
   "execution_count": 14,
   "id": "6e812b96-44e4-4b60-87e4-94a0c0dd5e02",
   "metadata": {},
   "outputs": [
    {
     "ename": "TypeError",
     "evalue": "'tuple' object does not support item assignment",
     "output_type": "error",
     "traceback": [
      "\u001b[0;31m---------------------------------------------------------------------------\u001b[0m",
      "\u001b[0;31mTypeError\u001b[0m                                 Traceback (most recent call last)",
      "Cell \u001b[0;32mIn[14], line 1\u001b[0m\n\u001b[0;32m----> 1\u001b[0m \u001b[43mt1\u001b[49m\u001b[43m[\u001b[49m\u001b[38;5;241;43m5\u001b[39;49m\u001b[43m]\u001b[49m \u001b[38;5;241m=\u001b[39m \u001b[38;5;124m\"\u001b[39m\u001b[38;5;124mpwskills\u001b[39m\u001b[38;5;124m\"\u001b[39m\n",
      "\u001b[0;31mTypeError\u001b[0m: 'tuple' object does not support item assignment"
     ]
    }
   ],
   "source": [
    "t1[5] = \"pwskills\"\n",
    "#tuples are basically a immutable entity"
   ]
  },
  {
   "cell_type": "code",
   "execution_count": 15,
   "id": "85cec16f-ac0c-40b6-8cf0-638feafa797c",
   "metadata": {},
   "outputs": [],
   "source": [
    "l[5] = \"pwskills\"\n",
    "#lists are basically a mutable entity"
   ]
  },
  {
   "cell_type": "code",
   "execution_count": 16,
   "id": "1f687e05-4f75-4ba2-befc-e666660f6343",
   "metadata": {},
   "outputs": [
    {
     "data": {
      "text/plain": [
       "[1, 2, 3, 4, 5, 'pwskills', True, (5+6j)]"
      ]
     },
     "execution_count": 16,
     "metadata": {},
     "output_type": "execute_result"
    }
   ],
   "source": [
    "l"
   ]
  },
  {
   "cell_type": "code",
   "execution_count": 22,
   "id": "1940a32f-78bb-41bc-bedd-89e0a67e64c8",
   "metadata": {},
   "outputs": [],
   "source": [
    "l1 = list(t1)"
   ]
  },
  {
   "cell_type": "code",
   "execution_count": 18,
   "id": "36beb6b8-2d9f-4454-8c2b-da928ed554e5",
   "metadata": {},
   "outputs": [
    {
     "data": {
      "text/plain": [
       "(1, 2, 3, 4, 5, 'sudh', True, (5+6j))"
      ]
     },
     "execution_count": 18,
     "metadata": {},
     "output_type": "execute_result"
    }
   ],
   "source": [
    "t1"
   ]
  },
  {
   "cell_type": "code",
   "execution_count": 23,
   "id": "1516e39d-d947-4a35-8eed-8ae6e88bf795",
   "metadata": {},
   "outputs": [
    {
     "data": {
      "text/plain": [
       "(1, 2, 3, 4, 5, 'sudh', True, (5+6j))"
      ]
     },
     "execution_count": 23,
     "metadata": {},
     "output_type": "execute_result"
    }
   ],
   "source": [
    "tuple(l1)"
   ]
  },
  {
   "cell_type": "code",
   "execution_count": 24,
   "id": "96fbf890-5309-474e-a6f6-a9d5ae0a9d84",
   "metadata": {},
   "outputs": [
    {
     "data": {
      "text/plain": [
       "0"
      ]
     },
     "execution_count": 24,
     "metadata": {},
     "output_type": "execute_result"
    }
   ],
   "source": [
    "t1.count(100)"
   ]
  },
  {
   "cell_type": "code",
   "execution_count": 25,
   "id": "53c8ec36-30b7-40c8-b12a-5486c7a05122",
   "metadata": {},
   "outputs": [
    {
     "data": {
      "text/plain": [
       "1"
      ]
     },
     "execution_count": 25,
     "metadata": {},
     "output_type": "execute_result"
    }
   ],
   "source": [
    "t1.count(\"sudh\")"
   ]
  },
  {
   "cell_type": "code",
   "execution_count": 26,
   "id": "a5809ee3-7da2-4701-8de3-964330730088",
   "metadata": {},
   "outputs": [
    {
     "data": {
      "text/plain": [
       "[1, 2, 3, 4, 5, 'sudh', True, (5+6j)]"
      ]
     },
     "execution_count": 26,
     "metadata": {},
     "output_type": "execute_result"
    }
   ],
   "source": [
    "l1"
   ]
  },
  {
   "cell_type": "code",
   "execution_count": 29,
   "id": "1e2b622a-5604-4216-9606-2801b6f89cf2",
   "metadata": {},
   "outputs": [
    {
     "data": {
      "text/plain": [
       "1"
      ]
     },
     "execution_count": 29,
     "metadata": {},
     "output_type": "execute_result"
    }
   ],
   "source": [
    "l1.count(4)\n"
   ]
  },
  {
   "cell_type": "code",
   "execution_count": 30,
   "id": "62738676-273f-4772-8457-cadf70b9bb27",
   "metadata": {},
   "outputs": [
    {
     "data": {
      "text/plain": [
       "5"
      ]
     },
     "execution_count": 30,
     "metadata": {},
     "output_type": "execute_result"
    }
   ],
   "source": [
    "t1.index(\"sudh\")"
   ]
  },
  {
   "cell_type": "code",
   "execution_count": 31,
   "id": "1cd664b9-d0ed-4129-9ab5-cd33c583c07d",
   "metadata": {},
   "outputs": [],
   "source": [
    "t2 = (\"sudh\" , 3,2,6,7,8,9,7,6,4,\"sudh\")"
   ]
  },
  {
   "cell_type": "code",
   "execution_count": 32,
   "id": "e5d310fb-d787-4121-ad24-b8a54b04480e",
   "metadata": {},
   "outputs": [
    {
     "data": {
      "text/plain": [
       "2"
      ]
     },
     "execution_count": 32,
     "metadata": {},
     "output_type": "execute_result"
    }
   ],
   "source": [
    "t2.count(\"sudh\")"
   ]
  },
  {
   "cell_type": "code",
   "execution_count": 33,
   "id": "afe01a65-24f0-4eca-8910-6ae7cf476956",
   "metadata": {},
   "outputs": [
    {
     "data": {
      "text/plain": [
       "0"
      ]
     },
     "execution_count": 33,
     "metadata": {},
     "output_type": "execute_result"
    }
   ],
   "source": [
    "t2.index(\"sudh\")"
   ]
  },
  {
   "cell_type": "code",
   "execution_count": 35,
   "id": "755f6ec9-9709-436d-956d-7c7dcbc54ccc",
   "metadata": {},
   "outputs": [
    {
     "data": {
      "text/plain": [
       "3"
      ]
     },
     "execution_count": 35,
     "metadata": {},
     "output_type": "execute_result"
    }
   ],
   "source": [
    "t2.index(6)"
   ]
  },
  {
   "cell_type": "code",
   "execution_count": 36,
   "id": "031d3d20-1f24-441a-8cfe-62e79b3105fa",
   "metadata": {},
   "outputs": [],
   "source": [
    "t3 = (4,5,6,7,8)"
   ]
  },
  {
   "cell_type": "code",
   "execution_count": 37,
   "id": "ddc0e7e9-51fd-4165-8436-124135283ce3",
   "metadata": {},
   "outputs": [
    {
     "data": {
      "text/plain": [
       "4"
      ]
     },
     "execution_count": 37,
     "metadata": {},
     "output_type": "execute_result"
    }
   ],
   "source": [
    "min(t3)\n"
   ]
  },
  {
   "cell_type": "code",
   "execution_count": 38,
   "id": "445e6d1d-f475-4e38-9355-b38567f58563",
   "metadata": {},
   "outputs": [
    {
     "data": {
      "text/plain": [
       "8"
      ]
     },
     "execution_count": 38,
     "metadata": {},
     "output_type": "execute_result"
    }
   ],
   "source": [
    "max(t3)"
   ]
  },
  {
   "cell_type": "code",
   "execution_count": null,
   "id": "9aff5321-2ead-43b6-ab63-e3628f4ac5f9",
   "metadata": {},
   "outputs": [],
   "source": []
  }
 ],
 "metadata": {
  "kernelspec": {
   "display_name": "Python 3 (ipykernel)",
   "language": "python",
   "name": "python3"
  },
  "language_info": {
   "codemirror_mode": {
    "name": "ipython",
    "version": 3
   },
   "file_extension": ".py",
   "mimetype": "text/x-python",
   "name": "python",
   "nbconvert_exporter": "python",
   "pygments_lexer": "ipython3",
   "version": "3.10.8"
  }
 },
 "nbformat": 4,
 "nbformat_minor": 5
}
