{
 "cells": [
  {
   "cell_type": "raw",
   "id": "c5b06e28-6dae-45d1-962c-a5bc24b1d00a",
   "metadata": {},
   "source": [
    "1.we have differenet types of synatax adding a values to the list"
   ]
  },
  {
   "cell_type": "raw",
   "id": "a388d44e-b62e-42a9-a94f-adc2d142e3e0",
   "metadata": {},
   "source": [
    "//1\n",
    "appened method-it adds the value to the end of the list\n",
    "2.insert method - it adds value at any position in the list\n",
    "\n",
    "For example"
   ]
  },
  {
   "cell_type": "code",
   "execution_count": 10,
   "id": "2634e5de-d214-4a31-820e-fe8ce764c45e",
   "metadata": {},
   "outputs": [],
   "source": [
    "l=[23,56,43,90,45]"
   ]
  },
  {
   "cell_type": "code",
   "execution_count": 11,
   "id": "65254b76-8aa4-487a-b32b-f60ad6c7de9a",
   "metadata": {},
   "outputs": [
    {
     "data": {
      "text/plain": [
       "[23, 56, 43, 90, 45]"
      ]
     },
     "execution_count": 11,
     "metadata": {},
     "output_type": "execute_result"
    }
   ],
   "source": [
    "l"
   ]
  },
  {
   "cell_type": "code",
   "execution_count": 13,
   "id": "97724956-3c6a-437a-a3c5-3f6434ff35b9",
   "metadata": {},
   "outputs": [],
   "source": [
    "l.append(66)"
   ]
  },
  {
   "cell_type": "code",
   "execution_count": 14,
   "id": "de7fd302-8598-4a0d-aeb3-c1bc5a4d6be2",
   "metadata": {},
   "outputs": [
    {
     "data": {
      "text/plain": [
       "[23, 56, 43, 90, 45, 66]"
      ]
     },
     "execution_count": 14,
     "metadata": {},
     "output_type": "execute_result"
    }
   ],
   "source": [
    "l"
   ]
  },
  {
   "cell_type": "code",
   "execution_count": 15,
   "id": "35c54bf1-302c-4903-91b4-7011a9ea540a",
   "metadata": {},
   "outputs": [],
   "source": [
    "l.insert(2,34)"
   ]
  },
  {
   "cell_type": "code",
   "execution_count": 16,
   "id": "cdeb6911-dfd5-4499-8ead-34b6d0121a39",
   "metadata": {},
   "outputs": [
    {
     "data": {
      "text/plain": [
       "[23, 56, 34, 43, 90, 45, 66]"
      ]
     },
     "execution_count": 16,
     "metadata": {},
     "output_type": "execute_result"
    }
   ],
   "source": [
    "l"
   ]
  },
  {
   "cell_type": "raw",
   "id": "7924200d-427b-4556-a551-e6a68cb0b5e8",
   "metadata": {},
   "source": [
    "2.difference between the remove() and pop() method is"
   ]
  },
  {
   "cell_type": "raw",
   "id": "bda38d07-7069-4351-afd5-5ee57de84fd4",
   "metadata": {},
   "source": [
    "remove()-it is used to remove any value in the list which is given it takes atleast one parameter\n",
    "pop()-it is a method in which it removes the last element of the list it takes atleast 0 parametr\n",
    "\n",
    "For example"
   ]
  },
  {
   "cell_type": "code",
   "execution_count": 21,
   "id": "a4d1ec3e-5a2b-4d30-9e24-bfb252f06779",
   "metadata": {},
   "outputs": [],
   "source": [
    "l1 = [23,45,6,7]"
   ]
  },
  {
   "cell_type": "code",
   "execution_count": 22,
   "id": "b13a08b4-157d-4623-b040-832bbb828bdf",
   "metadata": {},
   "outputs": [
    {
     "data": {
      "text/plain": [
       "[23, 45, 6, 7]"
      ]
     },
     "execution_count": 22,
     "metadata": {},
     "output_type": "execute_result"
    }
   ],
   "source": [
    "l1"
   ]
  },
  {
   "cell_type": "code",
   "execution_count": 23,
   "id": "5230afb6-a738-42ae-96b1-78965f13bf25",
   "metadata": {},
   "outputs": [],
   "source": [
    "l1.remove(6)"
   ]
  },
  {
   "cell_type": "code",
   "execution_count": 24,
   "id": "ea3c947c-85a7-40bd-bb8c-23bfbcf6faa3",
   "metadata": {},
   "outputs": [
    {
     "data": {
      "text/plain": [
       "[23, 45, 7]"
      ]
     },
     "execution_count": 24,
     "metadata": {},
     "output_type": "execute_result"
    }
   ],
   "source": [
    "l1"
   ]
  },
  {
   "cell_type": "code",
   "execution_count": 25,
   "id": "aa95f65d-80f1-4b97-95b7-87db02dc32ed",
   "metadata": {},
   "outputs": [
    {
     "data": {
      "text/plain": [
       "7"
      ]
     },
     "execution_count": 25,
     "metadata": {},
     "output_type": "execute_result"
    }
   ],
   "source": [
    "l1.pop()"
   ]
  },
  {
   "cell_type": "raw",
   "id": "c2833c82-e8a3-40fb-9cd9-85e87e4408a0",
   "metadata": {},
   "source": [
    "3."
   ]
  },
  {
   "cell_type": "code",
   "execution_count": 26,
   "id": "8fa23ffc-0914-4bf9-872a-cec7e08cf3d2",
   "metadata": {},
   "outputs": [],
   "source": [
    "l3 = [34,67,89,88,45,12,3,2]"
   ]
  },
  {
   "cell_type": "code",
   "execution_count": 27,
   "id": "519b42de-37f0-4694-bb62-4982630396fb",
   "metadata": {},
   "outputs": [],
   "source": [
    "l3.sort(reverse=True)"
   ]
  },
  {
   "cell_type": "code",
   "execution_count": 28,
   "id": "c7a9d12a-5709-41f3-8367-b442e3a7c443",
   "metadata": {},
   "outputs": [
    {
     "data": {
      "text/plain": [
       "[89, 88, 67, 45, 34, 12, 3, 2]"
      ]
     },
     "execution_count": 28,
     "metadata": {},
     "output_type": "execute_result"
    }
   ],
   "source": [
    "l3"
   ]
  },
  {
   "cell_type": "raw",
   "id": "fb478596-729e-456b-aca5-dbb534cbafc5",
   "metadata": {},
   "source": [
    "4."
   ]
  },
  {
   "cell_type": "code",
   "execution_count": 31,
   "id": "0350d19b-f18a-4a52-8c07-8a8b9289ce20",
   "metadata": {},
   "outputs": [
    {
     "name": "stdout",
     "output_type": "stream",
     "text": [
      "7\n"
     ]
    }
   ],
   "source": [
    "l4 = [34,56,\"mango\",\"bike\",89,45,True]\n",
    "count = 0\n",
    "for i in l4:\n",
    "    count=count+1\n",
    "print(count)    "
   ]
  },
  {
   "cell_type": "raw",
   "id": "c778693b-ccae-4cba-9852-abbadd5bedea",
   "metadata": {},
   "source": [
    "5."
   ]
  },
  {
   "cell_type": "code",
   "execution_count": 33,
   "id": "417ee916-47cf-4eb7-abe9-e5c7fb7b34ec",
   "metadata": {},
   "outputs": [
    {
     "data": {
      "text/plain": [
       "[89, 88, 67, 45, 34, 12, 3, 2]"
      ]
     },
     "execution_count": 33,
     "metadata": {},
     "output_type": "execute_result"
    }
   ],
   "source": [
    "l3"
   ]
  },
  {
   "cell_type": "code",
   "execution_count": 34,
   "id": "ad99438a-15ca-4f79-a22a-434ddd49ece0",
   "metadata": {},
   "outputs": [],
   "source": [
    "l3.reverse()"
   ]
  },
  {
   "cell_type": "code",
   "execution_count": null,
   "id": "0b653df5-89ca-4493-860a-9d0c9335a350",
   "metadata": {},
   "outputs": [],
   "source": []
  }
 ],
 "metadata": {
  "kernelspec": {
   "display_name": "Python 3 (ipykernel)",
   "language": "python",
   "name": "python3"
  },
  "language_info": {
   "codemirror_mode": {
    "name": "ipython",
    "version": 3
   },
   "file_extension": ".py",
   "mimetype": "text/x-python",
   "name": "python",
   "nbconvert_exporter": "python",
   "pygments_lexer": "ipython3",
   "version": "3.10.8"
  }
 },
 "nbformat": 4,
 "nbformat_minor": 5
}
