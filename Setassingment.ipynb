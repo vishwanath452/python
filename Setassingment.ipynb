{
 "cells": [
  {
   "cell_type": "raw",
   "id": "3eeafcaf-1e00-4e1f-9244-58eb7df8e991",
   "metadata": {},
   "source": [
    "1.set is defind as an unordered collection which not allows the inseration and remove the duplicate values and computing the mathamatical operations such as intersection,union,difference and symmetric difference"
   ]
  },
  {
   "cell_type": "raw",
   "id": "983d4ee4-cc22-4272-919d-0348b5c38e5b",
   "metadata": {},
   "source": [
    "2.we can create set python is pair of curly braces in which it has a homogenous and heterogenous\n",
    "for example\n",
    "s1 = {1,3,4,56,23,\"sudh\",\"sam\"}"
   ]
  },
  {
   "cell_type": "raw",
   "id": "919739a2-95a1-42aa-ba59-944702eafe81",
   "metadata": {},
   "source": [
    "3.we can add a elements to a set by an add() method if we have to give one parameter so that the element adds to the set\n",
    "for example"
   ]
  },
  {
   "cell_type": "code",
   "execution_count": 1,
   "id": "073a3cac-9266-44da-b124-9f38b52958b5",
   "metadata": {},
   "outputs": [],
   "source": [
    "s1 = {1,2,3,4,5,6,\"sam\",\"word\"}\n"
   ]
  },
  {
   "cell_type": "code",
   "execution_count": 2,
   "id": "f351d4ee-8af7-4d69-8177-0f5738eedd55",
   "metadata": {},
   "outputs": [
    {
     "data": {
      "text/plain": [
       "{1, 2, 3, 4, 5, 6, 'sam', 'word'}"
      ]
     },
     "execution_count": 2,
     "metadata": {},
     "output_type": "execute_result"
    }
   ],
   "source": [
    "s1"
   ]
  },
  {
   "cell_type": "code",
   "execution_count": 3,
   "id": "a8663620-9015-478f-9d9d-51f6a4e46281",
   "metadata": {},
   "outputs": [],
   "source": [
    "s1.add(\"mam\")"
   ]
  },
  {
   "cell_type": "code",
   "execution_count": 4,
   "id": "3c7b426e-77c1-4406-8bc9-2c5062fc9354",
   "metadata": {},
   "outputs": [
    {
     "data": {
      "text/plain": [
       "{1, 2, 3, 4, 5, 6, 'mam', 'sam', 'word'}"
      ]
     },
     "execution_count": 4,
     "metadata": {},
     "output_type": "execute_result"
    }
   ],
   "source": [
    "s1"
   ]
  },
  {
   "cell_type": "raw",
   "id": "d4ce085b-642a-4f2d-85ec-4c8103783582",
   "metadata": {},
   "source": [
    "4.we can remove the element by remove() method and discard method().If we give one element in set it removes the particular element.the main difference between the remove() method generates the keyerror if there is no error and discard() method does not generates the keyerror.\n",
    "for example"
   ]
  },
  {
   "cell_type": "code",
   "execution_count": 5,
   "id": "f5b9b944-2617-4044-b2ce-5a9b842e4b07",
   "metadata": {},
   "outputs": [
    {
     "data": {
      "text/plain": [
       "{1, 2, 3, 4, 5, 6, 'mam', 'sam', 'word'}"
      ]
     },
     "execution_count": 5,
     "metadata": {},
     "output_type": "execute_result"
    }
   ],
   "source": [
    "s1"
   ]
  },
  {
   "cell_type": "code",
   "execution_count": 6,
   "id": "825aba47-b5ae-47c4-adfd-faf2bb8ad01e",
   "metadata": {},
   "outputs": [
    {
     "ename": "KeyError",
     "evalue": "7",
     "output_type": "error",
     "traceback": [
      "\u001b[0;31m---------------------------------------------------------------------------\u001b[0m",
      "\u001b[0;31mKeyError\u001b[0m                                  Traceback (most recent call last)",
      "Cell \u001b[0;32mIn[6], line 1\u001b[0m\n\u001b[0;32m----> 1\u001b[0m \u001b[43ms1\u001b[49m\u001b[38;5;241;43m.\u001b[39;49m\u001b[43mremove\u001b[49m\u001b[43m(\u001b[49m\u001b[38;5;241;43m7\u001b[39;49m\u001b[43m)\u001b[49m\n",
      "\u001b[0;31mKeyError\u001b[0m: 7"
     ]
    }
   ],
   "source": [
    "s1.remove(7)"
   ]
  },
  {
   "cell_type": "code",
   "execution_count": 8,
   "id": "19ce2158-c50a-4839-8dad-7ab408b0ec73",
   "metadata": {},
   "outputs": [],
   "source": [
    "s1.discard(7)"
   ]
  },
  {
   "cell_type": "raw",
   "id": "2e3d9490-7c56-4237-9741-f7bb61d7f6bc",
   "metadata": {},
   "source": [
    "5.we can get the element by an len() method or function.it do not count the duplicates\n",
    "for example"
   ]
  },
  {
   "cell_type": "code",
   "execution_count": 9,
   "id": "128a5834-3c2c-4d3b-8a24-f99ebf0bc69c",
   "metadata": {},
   "outputs": [],
   "source": [
    "s2 = {2,56,76,2,4,8,9}"
   ]
  },
  {
   "cell_type": "code",
   "execution_count": 11,
   "id": "4a62dd10-e3a1-4e79-8f10-cc18c39a6dc1",
   "metadata": {},
   "outputs": [
    {
     "name": "stdout",
     "output_type": "stream",
     "text": [
      "6\n"
     ]
    }
   ],
   "source": [
    "print(len(s2))"
   ]
  },
  {
   "cell_type": "code",
   "execution_count": null,
   "id": "212553b6-e5d9-46fc-b5a6-9677ea29f375",
   "metadata": {},
   "outputs": [],
   "source": []
  }
 ],
 "metadata": {
  "kernelspec": {
   "display_name": "Python 3 (ipykernel)",
   "language": "python",
   "name": "python3"
  },
  "language_info": {
   "codemirror_mode": {
    "name": "ipython",
    "version": 3
   },
   "file_extension": ".py",
   "mimetype": "text/x-python",
   "name": "python",
   "nbconvert_exporter": "python",
   "pygments_lexer": "ipython3",
   "version": "3.10.8"
  }
 },
 "nbformat": 4,
 "nbformat_minor": 5
}
