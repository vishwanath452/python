{
 "cells": [
  {
   "cell_type": "raw",
   "id": "824aeeb0-36db-4f36-a3cc-2223fc823303",
   "metadata": {},
   "source": [
    "1.create an empty list"
   ]
  },
  {
   "cell_type": "code",
   "execution_count": 1,
   "id": "dea6393c-149d-4b22-b8d2-083df65dc30e",
   "metadata": {},
   "outputs": [],
   "source": [
    "s1 = []\n"
   ]
  },
  {
   "cell_type": "code",
   "execution_count": 2,
   "id": "54084e62-2d83-42a9-a9a9-14625c13e1e6",
   "metadata": {},
   "outputs": [
    {
     "data": {
      "text/plain": [
       "[]"
      ]
     },
     "execution_count": 2,
     "metadata": {},
     "output_type": "execute_result"
    }
   ],
   "source": [
    "s1"
   ]
  },
  {
   "cell_type": "raw",
   "id": "84925654-cca8-4dc1-9a34-8348a7b2897e",
   "metadata": {},
   "source": [
    "2."
   ]
  },
  {
   "cell_type": "code",
   "execution_count": 12,
   "id": "b5648d31-d879-43ce-bfc4-b6ef4571dd9a",
   "metadata": {},
   "outputs": [],
   "source": [
    "s2 = [100,90,80,30]"
   ]
  },
  {
   "cell_type": "code",
   "execution_count": 13,
   "id": "0d575bca-c0e4-4db8-9ba0-3b7825312d8a",
   "metadata": {},
   "outputs": [
    {
     "data": {
      "text/plain": [
       "[100, 90, 80, 30]"
      ]
     },
     "execution_count": 13,
     "metadata": {},
     "output_type": "execute_result"
    }
   ],
   "source": [
    "s2"
   ]
  },
  {
   "cell_type": "code",
   "execution_count": 14,
   "id": "843ee271-44d6-49c0-991f-be8088ec1277",
   "metadata": {},
   "outputs": [],
   "source": [
    "s2.append(60)"
   ]
  },
  {
   "cell_type": "code",
   "execution_count": 15,
   "id": "618570a5-7439-488b-8d39-9f1d02349422",
   "metadata": {},
   "outputs": [
    {
     "data": {
      "text/plain": [
       "[100, 90, 80, 30, 60]"
      ]
     },
     "execution_count": 15,
     "metadata": {},
     "output_type": "execute_result"
    }
   ],
   "source": [
    "s2"
   ]
  },
  {
   "cell_type": "raw",
   "id": "64e568cd-a691-4ffd-8981-1e913d1860e0",
   "metadata": {},
   "source": [
    "3."
   ]
  },
  {
   "cell_type": "code",
   "execution_count": 16,
   "id": "848de81a-b3e0-4e5e-b35f-1359a9bb355a",
   "metadata": {},
   "outputs": [
    {
     "data": {
      "text/plain": [
       "[60]"
      ]
     },
     "execution_count": 16,
     "metadata": {},
     "output_type": "execute_result"
    }
   ],
   "source": [
    "s2[4: ]"
   ]
  },
  {
   "cell_type": "raw",
   "id": "cffc5fb4-5cba-4546-9448-fc1d980e0df1",
   "metadata": {},
   "source": [
    "4."
   ]
  },
  {
   "cell_type": "code",
   "execution_count": 17,
   "id": "9fdf73ed-f463-43d2-a5a6-003a88e88084",
   "metadata": {},
   "outputs": [],
   "source": [
    "s2.reverse()"
   ]
  },
  {
   "cell_type": "code",
   "execution_count": 18,
   "id": "1e12dd49-9866-4009-bffc-51efc399f218",
   "metadata": {},
   "outputs": [
    {
     "data": {
      "text/plain": [
       "[60, 30, 80, 90, 100]"
      ]
     },
     "execution_count": 18,
     "metadata": {},
     "output_type": "execute_result"
    }
   ],
   "source": [
    "s2"
   ]
  },
  {
   "cell_type": "raw",
   "id": "6690606c-868e-4446-bc02-308bebc51979",
   "metadata": {},
   "source": [
    "5."
   ]
  },
  {
   "cell_type": "code",
   "execution_count": 21,
   "id": "30dfc2a5-8e78-4896-a5fc-ea36f57b0610",
   "metadata": {},
   "outputs": [],
   "source": [
    "s2.sort()"
   ]
  },
  {
   "cell_type": "code",
   "execution_count": 22,
   "id": "1b7e3320-a0a4-40ff-a764-5695153ebdae",
   "metadata": {},
   "outputs": [
    {
     "data": {
      "text/plain": [
       "[30, 60, 80, 90, 100]"
      ]
     },
     "execution_count": 22,
     "metadata": {},
     "output_type": "execute_result"
    }
   ],
   "source": [
    "s2"
   ]
  },
  {
   "cell_type": "raw",
   "id": "d867a17b-d574-44ae-96b4-92c337f97b56",
   "metadata": {},
   "source": [
    "6."
   ]
  },
  {
   "cell_type": "code",
   "execution_count": 23,
   "id": "884bbe89-4f2d-4926-8f60-1e73d480d0e5",
   "metadata": {},
   "outputs": [],
   "source": [
    "movies = [\"RRR\" , \"bahubali\" , \"Avatar2\"]"
   ]
  },
  {
   "cell_type": "code",
   "execution_count": 24,
   "id": "5576f98a-d4aa-42ec-9754-f43513ef4eb8",
   "metadata": {},
   "outputs": [
    {
     "data": {
      "text/plain": [
       "['bahubali']"
      ]
     },
     "execution_count": 24,
     "metadata": {},
     "output_type": "execute_result"
    }
   ],
   "source": [
    "movies[1:2]"
   ]
  },
  {
   "cell_type": "raw",
   "id": "65fa9ad4-2af9-49bb-92aa-5f99c6670cdf",
   "metadata": {},
   "source": [
    "7."
   ]
  },
  {
   "cell_type": "code",
   "execution_count": 25,
   "id": "a34634bc-99cf-4481-b59d-68323efca568",
   "metadata": {},
   "outputs": [],
   "source": [
    "Animals = [\"lion\",\"tiger\",\"elephant\",\"deer\",\"bear\"]"
   ]
  },
  {
   "cell_type": "code",
   "execution_count": 27,
   "id": "f4a942cb-623c-41c4-80c9-f5a05d79175d",
   "metadata": {},
   "outputs": [],
   "source": [
    "Animals.append(\"cow\")"
   ]
  },
  {
   "cell_type": "code",
   "execution_count": 28,
   "id": "f0a7227b-658b-4ab2-aca4-d00856ec6c47",
   "metadata": {},
   "outputs": [
    {
     "data": {
      "text/plain": [
       "['lion', 'tiger', 'elephant', 'deer', 'bear', 'cow']"
      ]
     },
     "execution_count": 28,
     "metadata": {},
     "output_type": "execute_result"
    }
   ],
   "source": [
    "Animals"
   ]
  },
  {
   "cell_type": "code",
   "execution_count": 29,
   "id": "44d9131b-3e54-4887-af5c-1c4d774a4dde",
   "metadata": {},
   "outputs": [],
   "source": [
    "cities = [\"mumbai\",\"Hyderabad\",\"chennai\",\"Delhi\",\"Banglore\"]\n"
   ]
  },
  {
   "cell_type": "code",
   "execution_count": 34,
   "id": "edf7e829-8f37-4903-94f0-cd83c91f4b9b",
   "metadata": {},
   "outputs": [
    {
     "data": {
      "text/plain": [
       "1"
      ]
     },
     "execution_count": 34,
     "metadata": {},
     "output_type": "execute_result"
    }
   ],
   "source": [
    "cities.index(\"Hyderabad\")"
   ]
  },
  {
   "cell_type": "code",
   "execution_count": 36,
   "id": "f4b8847b-b0e0-4146-a1ec-8f59fa727f18",
   "metadata": {},
   "outputs": [
    {
     "data": {
      "text/plain": [
       "['Hyderabad']"
      ]
     },
     "execution_count": 36,
     "metadata": {},
     "output_type": "execute_result"
    }
   ],
   "source": [
    "cities[1:2:1]"
   ]
  },
  {
   "cell_type": "code",
   "execution_count": null,
   "id": "67620f0e-bbed-49ae-ab70-e20c13d43f94",
   "metadata": {},
   "outputs": [],
   "source": []
  }
 ],
 "metadata": {
  "kernelspec": {
   "display_name": "Python 3 (ipykernel)",
   "language": "python",
   "name": "python3"
  },
  "language_info": {
   "codemirror_mode": {
    "name": "ipython",
    "version": 3
   },
   "file_extension": ".py",
   "mimetype": "text/x-python",
   "name": "python",
   "nbconvert_exporter": "python",
   "pygments_lexer": "ipython3",
   "version": "3.10.8"
  }
 },
 "nbformat": 4,
 "nbformat_minor": 5
}
