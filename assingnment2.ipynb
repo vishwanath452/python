{
 "cells": [
  {
   "cell_type": "raw",
   "id": "b6c0b34e-6587-44b5-85a0-0b8210faa540",
   "metadata": {},
   "source": [
    "1.You can use a formatted string literal to store a single quote in variable"
   ]
  },
  {
   "cell_type": "raw",
   "id": "e89e33d8-9295-45bb-80d2-e5e0334043a1",
   "metadata": {},
   "source": [
    "2.x='a' is a string type because string is defined as a single quotes or double quotes and in python there is no char datatype"
   ]
  },
  {
   "cell_type": "code",
   "execution_count": 4,
   "id": "8528d8bf-baed-4013-ae2b-0b86aa11ad2a",
   "metadata": {},
   "outputs": [
    {
     "data": {
      "text/plain": [
       "11"
      ]
     },
     "execution_count": 4,
     "metadata": {},
     "output_type": "execute_result"
    }
   ],
   "source": [
    "var='Welcome to Python foundation course'\n",
    "var.find('f')\n",
    "var.find('P')"
   ]
  },
  {
   "cell_type": "code",
   "execution_count": 5,
   "id": "8cff7508-089d-4d07-b822-ab0c875c652c",
   "metadata": {},
   "outputs": [
    {
     "data": {
      "text/plain": [
       "2"
      ]
     },
     "execution_count": 5,
     "metadata": {},
     "output_type": "execute_result"
    }
   ],
   "source": [
    "var.count('u')"
   ]
  },
  {
   "cell_type": "code",
   "execution_count": 6,
   "id": "c3877e49-6f10-4895-9eb6-52b9e191133c",
   "metadata": {},
   "outputs": [
    {
     "data": {
      "text/plain": [
       "35"
      ]
     },
     "execution_count": 6,
     "metadata": {},
     "output_type": "execute_result"
    }
   ],
   "source": [
    "len(var)"
   ]
  },
  {
   "cell_type": "raw",
   "id": "f2719a64-52fa-4746-bb4b-a43887c97602",
   "metadata": {},
   "source": [
    "concatenation"
   ]
  },
  {
   "cell_type": "code",
   "execution_count": 11,
   "id": "d1d6a9c4-9ab7-4acc-a1cf-36cd90b8a1e3",
   "metadata": {},
   "outputs": [
    {
     "name": "stdout",
     "output_type": "stream",
     "text": [
      "welcome to collegewallah\n"
     ]
    }
   ],
   "source": [
    "str1=\"welcome\"\n",
    "str2=\" to collegewallah\"\n",
    "str3=str1+str2\n",
    "print(str3)"
   ]
  },
  {
   "cell_type": "raw",
   "id": "efa2671b-4174-4cf9-aa35-88ed986dda4a",
   "metadata": {},
   "source": [
    "4.//lowercase"
   ]
  },
  {
   "cell_type": "code",
   "execution_count": null,
   "id": "15f04f97-c4e3-4180-b486-53386395293c",
   "metadata": {},
   "outputs": [],
   "source": [
    "word='PanaJi@12256'\n",
    "lower=0\n",
    "for i in word:\n",
    "    if(i.islower()):\n",
    "        lower+=1\n",
    "print(\"no.of lowercase letters is\",lower)        \n"
   ]
  },
  {
   "cell_type": "raw",
   "id": "38a80874-e932-4d0f-892d-97b9e6a97720",
   "metadata": {},
   "source": [
    "//uppercase"
   ]
  },
  {
   "cell_type": "code",
   "execution_count": 26,
   "id": "221972d3-63ff-4f69-b7dc-342e1d726d76",
   "metadata": {},
   "outputs": [
    {
     "name": "stdout",
     "output_type": "stream",
     "text": [
      "no.of uppercase letters is 2\n"
     ]
    }
   ],
   "source": [
    "\n",
    "upper=0\n",
    "for i in word:\n",
    "    if(i.isupper()):\n",
    "        upper+=1\n",
    "print(\"no.of uppercase letters is\",upper)        "
   ]
  },
  {
   "cell_type": "raw",
   "id": "fd058872-043e-4455-b39d-c79c679300c4",
   "metadata": {},
   "source": [
    "//no.of numericals"
   ]
  },
  {
   "cell_type": "code",
   "execution_count": 31,
   "id": "206db2a5-260f-41f9-a908-26f1b60c4c51",
   "metadata": {},
   "outputs": [
    {
     "name": "stdout",
     "output_type": "stream",
     "text": [
      "number of digits is 6\n"
     ]
    }
   ],
   "source": [
    "alpha=0\n",
    "for i in word:\n",
    "    if(i.isalpha()):\n",
    "        alpha+=1\n",
    "print(\"number of digits is\",len(word)-alpha)        "
   ]
  },
  {
   "cell_type": "raw",
   "id": "d7b820df-d973-475f-a6d2-b9f5175f6ee5",
   "metadata": {},
   "source": [
    "5.convert a string\n"
   ]
  },
  {
   "cell_type": "code",
   "execution_count": 32,
   "id": "9c6cfabb-c0be-4488-bf0f-a036a6621ddb",
   "metadata": {},
   "outputs": [
    {
     "data": {
      "text/plain": [
       "'100'"
      ]
     },
     "execution_count": 32,
     "metadata": {},
     "output_type": "execute_result"
    }
   ],
   "source": [
    "value=100\n",
    "str(value)"
   ]
  },
  {
   "cell_type": "code",
   "execution_count": null,
   "id": "023e5c25-4b36-47e4-8a9f-6629971effa0",
   "metadata": {},
   "outputs": [],
   "source": []
  }
 ],
 "metadata": {
  "kernelspec": {
   "display_name": "Python 3 (ipykernel)",
   "language": "python",
   "name": "python3"
  },
  "language_info": {
   "codemirror_mode": {
    "name": "ipython",
    "version": 3
   },
   "file_extension": ".py",
   "mimetype": "text/x-python",
   "name": "python",
   "nbconvert_exporter": "python",
   "pygments_lexer": "ipython3",
   "version": "3.10.8"
  }
 },
 "nbformat": 4,
 "nbformat_minor": 5
}
